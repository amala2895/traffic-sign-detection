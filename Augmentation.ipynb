{
 "cells": [
  {
   "cell_type": "code",
   "execution_count": 141,
   "metadata": {
    "collapsed": true
   },
   "outputs": [],
   "source": [
    "import os\n",
    "import cv2\n",
    "import matplotlib.image as mpimg\n",
    "import matplotlib.pyplot as plt\n",
    "import numpy as np"
   ]
  },
  {
   "cell_type": "code",
   "execution_count": 142,
   "metadata": {
    "collapsed": true
   },
   "outputs": [],
   "source": [
    "def transform_image(img,ang_range,shear_range,trans_range):    \n",
    "    #rotation\n",
    "    ang_rot = np.random.uniform(ang_range)-ang_range/2\n",
    "    rows,cols,ch = img.shape    \n",
    "    Rot_M = cv2.getRotationMatrix2D((cols/2,rows/2),ang_rot,1)\n",
    "\n",
    "    # Translation\n",
    "    tr_x = trans_range*np.random.uniform()-trans_range/2\n",
    "    tr_y = trans_range*np.random.uniform()-trans_range/2\n",
    "    Trans_M = np.float32([[1,0,tr_x],[0,1,tr_y]])\n",
    "\n",
    "    # Shear\n",
    "    pts1 = np.float32([[5,5],[20,5],[5,20]])\n",
    "    pt1 = 5+shear_range*np.random.uniform()-shear_range/2\n",
    "    pt2 = 20+shear_range*np.random.uniform()-shear_range/2\n",
    "    pts2 = np.float32([[pt1,5],[pt2,pt1],[5,pt2]])\n",
    "    shear_M = cv2.getAffineTransform(pts1,pts2)\n",
    "    \n",
    "    img = cv2.warpAffine(img,Rot_M,(cols,rows))\n",
    "    img = cv2.warpAffine(img,Trans_M,(cols,rows))\n",
    "    img = cv2.warpAffine(img,shear_M,(cols,rows))\n",
    "    return img\n"
   ]
  },
  {
   "cell_type": "code",
   "execution_count": 143,
   "metadata": {},
   "outputs": [
    {
     "data": {
      "image/png": "[encoded data removed]",
      "text/plain": [
       "<matplotlib.figure.Figure at 0x10ffcc160>"
      ]
     },
     "metadata": {},
     "output_type": "display_data"
    },
    {
     "data": {
      "image/png": "[encoded data removed]",
      "text/plain": [
       "<matplotlib.figure.Figure at 0x1068d6c50>"
      ]
     },
     "metadata": {},
     "output_type": "display_data"
    },
    {
     "data": {
      "image/png": "[encoded data removed]",
      "text/plain": [
       "<matplotlib.figure.Figure at 0x1068f2ef0>"
      ]
     },
     "metadata": {},
     "output_type": "display_data"
    }
   ],
   "source": [
    "image = plt.imread('data/train_images/00000/00003_00000.ppm')\n",
    "plt.imshow(image)\n",
    "plt.show()\n",
    "\n",
    "newimage=transform_image(image,20,10,5)\n",
    "plt.imshow(newimage)\n",
    "plt.show()\n",
    "plt.imsave(\"my.ppm\",newimage)\n",
    "image = plt.imread('my.ppm')\n",
    "plt.imshow(image)\n",
    "plt.show()"
   ]
  },
  {
   "cell_type": "code",
   "execution_count": 144,
   "metadata": {},
   "outputs": [
    {
     "data": {
      "text/plain": [
       "79835"
      ]
     },
     "execution_count": 144,
     "metadata": {},
     "output_type": "execute_result"
    }
   ],
   "source": [
    "\n",
    "train_folder = 'data/train_images'\n",
    "number={}\n",
    "sum1=0\n",
    "for dirs in os.listdir(train_folder):\n",
    "    if dirs.startswith('000'):\n",
    "        number[dirs]=(len(os.listdir(train_folder + '/' + dirs)))\n",
    "        sum1=sum1+len(os.listdir(train_folder + '/' + dirs))\n",
    "sum1"
   ]
  },
  {
   "cell_type": "code",
   "execution_count": 145,
   "metadata": {},
   "outputs": [
    {
     "data": {
      "image/png": "[encoded data removed]",
      "text/plain": [
       "<matplotlib.figure.Figure at 0x1068d1c50>"
      ]
     },
     "metadata": {},
     "output_type": "display_data"
    }
   ],
   "source": [
    "plt.bar(number.keys(), number.values())\n",
    "plt.show()"
   ]
  },
  {
   "cell_type": "code",
   "execution_count": 140,
   "metadata": {},
   "outputs": [
    {
     "name": "stdout",
     "output_type": "stream",
     "text": [
      "00009\n",
      "00007\n",
      "00008\n",
      "00041\n",
      "00015\n",
      "00023\n",
      "00024\n",
      "00035\n",
      "00032\n",
      "00003\n",
      "00033\n",
      "00029\n",
      "00011\n",
      "00027\n",
      "00018\n",
      "00042\n",
      "00026\n",
      "00017\n",
      "00028\n"
     ]
    }
   ],
   "source": [
    "for dirs in os.listdir(train_folder):\n",
    "    if dirs.startswith('000'):\n",
    "        l=len(os.listdir(train_folder + '/' + dirs))\n",
    "        if(l<500):\n",
    "            image = plt.imread(train_folder + '/' + dirs+'/'+f)\n",
    "            newf=f.split(\".\")[0]+\"_1.ppm\"\n",
    "            newimg=transform_image(image,15,10,5)\n",
    "            plt.imsave(train_folder + '/' + dirs+'/'+newf,newimg)\n",
    "            newf=f.split(\".\")[0]+\"_2.ppm\"\n",
    "            newimg=transform_image(image,15,10,5)\n",
    "            plt.imsave(train_folder + '/' + dirs+'/'+newf,newimg)\n",
    "            newf=f.split(\".\")[0]+\"_3.ppm\"\n",
    "            newimg=transform_image(image,15,10,5)\n",
    "            plt.imsave(train_folder + '/' + dirs+'/'+newf,newimg)\n",
    "            newf=f.split(\".\")[0]+\"_3.ppm\"\n",
    "            newimg=transform_image(image,15,10,5)\n",
    "            plt.imsave(train_folder + '/' + dirs+'/'+newf,newimg)\n",
    "        if(l>500 and l<1000):\n",
    "            image = plt.imread(train_folder + '/' + dirs+'/'+f)\n",
    "            newf=f.split(\".\")[0]+\"_1.ppm\"\n",
    "            newimg=transform_image(image,15,10,5)\n",
    "            plt.imsave(train_folder + '/' + dirs+'/'+newf,newimg)\n",
    "            newf=f.split(\".\")[0]+\"_2.ppm\"\n",
    "            newimg=transform_image(image,15,10,5)\n",
    "            plt.imsave(train_folder + '/' + dirs+'/'+newf,newimg)\n",
    "        if(l<1500):\n",
    "            print(dirs)\n",
    "            i=0\n",
    "            for f in os.listdir(train_folder + '/' + dirs):\n",
    "                if(i%2==0):\n",
    "                    image = plt.imread(train_folder + '/' + dirs+'/'+f)\n",
    "                    newf=f.split(\".\")[0]+\"_1.ppm\"\n",
    "                    newimg=transform_image(image,15,10,5)\n",
    "                    plt.imsave(train_folder + '/' + dirs+'/'+newf,newimg)\n",
    "                i=i+1\n",
    "               \n",
    "                "
   ]
  },
  {
   "cell_type": "code",
   "execution_count": null,
   "metadata": {
    "collapsed": true
   },
   "outputs": [],
   "source": []
  }
 ],
 "metadata": {
  "kernelspec": {
   "display_name": "Python 3",
   "language": "python",
   "name": "python3"
  },
  "language_info": {
   "codemirror_mode": {
    "name": "ipython",
    "version": 3
   },
   "file_extension": ".py",
   "mimetype": "text/x-python",
   "name": "python",
   "nbconvert_exporter": "python",
   "pygments_lexer": "ipython3",
   "version": "3.6.3"
  }
 },
 "nbformat": 4,
 "nbformat_minor": 2
}
